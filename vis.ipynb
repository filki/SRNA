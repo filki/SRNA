{
 "cells": [
  {
   "cell_type": "code",
   "execution_count": 2,
   "metadata": {},
   "outputs": [],
   "source": [
    "import pandas as pd\n",
    "import sqlite3\n",
    "import os"
   ]
  },
  {
   "cell_type": "code",
   "execution_count": null,
   "metadata": {},
   "outputs": [],
   "source": []
  },
  {
   "cell_type": "code",
   "execution_count": 5,
   "metadata": {},
   "outputs": [
    {
     "name": "stdout",
     "output_type": "stream",
     "text": [
      "Connected to SQLite\n"
     ]
    }
   ],
   "source": [
    "conn = sqlite3.connect('data/steam_reviews_with_timestamp.db')\n",
    "print(\"Connected to SQLite\")\n",
    " \n",
    "# Getting all tables from sqlite_master\n",
    "sql_query = \"\"\"SELECT * from reviews\"\"\"\n",
    " \n",
    "df = pd.read_sql_query(sql_query, conn)"
   ]
  },
  {
   "cell_type": "code",
   "execution_count": 6,
   "metadata": {},
   "outputs": [
    {
     "data": {
      "text/html": [
       "<div>\n",
       "<style scoped>\n",
       "    .dataframe tbody tr th:only-of-type {\n",
       "        vertical-align: middle;\n",
       "    }\n",
       "\n",
       "    .dataframe tbody tr th {\n",
       "        vertical-align: top;\n",
       "    }\n",
       "\n",
       "    .dataframe thead th {\n",
       "        text-align: right;\n",
       "    }\n",
       "</style>\n",
       "<table border=\"1\" class=\"dataframe\">\n",
       "  <thead>\n",
       "    <tr style=\"text-align: right;\">\n",
       "      <th></th>\n",
       "      <th>id</th>\n",
       "      <th>app_id</th>\n",
       "      <th>content</th>\n",
       "      <th>author_id</th>\n",
       "      <th>is_positive</th>\n",
       "      <th>timestamp_created</th>\n",
       "    </tr>\n",
       "  </thead>\n",
       "  <tbody>\n",
       "    <tr>\n",
       "      <th>0</th>\n",
       "      <td>182230666</td>\n",
       "      <td>10</td>\n",
       "      <td>old cs</td>\n",
       "      <td>76561199543367453</td>\n",
       "      <td>Positive</td>\n",
       "      <td>1733647074</td>\n",
       "    </tr>\n",
       "    <tr>\n",
       "      <th>1</th>\n",
       "      <td>182219148</td>\n",
       "      <td>10</td>\n",
       "      <td>Ну для старперов сранных норм\\r\\n</td>\n",
       "      <td>76561199178774423</td>\n",
       "      <td>Positive</td>\n",
       "      <td>1733634985</td>\n",
       "    </tr>\n",
       "    <tr>\n",
       "      <th>2</th>\n",
       "      <td>182201595</td>\n",
       "      <td>10</td>\n",
       "      <td>fun game</td>\n",
       "      <td>76561199499216575</td>\n",
       "      <td>Positive</td>\n",
       "      <td>1733617809</td>\n",
       "    </tr>\n",
       "    <tr>\n",
       "      <th>3</th>\n",
       "      <td>182192781</td>\n",
       "      <td>10</td>\n",
       "      <td>Best game</td>\n",
       "      <td>76561198865144644</td>\n",
       "      <td>Positive</td>\n",
       "      <td>1733610483</td>\n",
       "    </tr>\n",
       "    <tr>\n",
       "      <th>4</th>\n",
       "      <td>182189042</td>\n",
       "      <td>10</td>\n",
       "      <td>in another life before Steam.</td>\n",
       "      <td>76561197962303676</td>\n",
       "      <td>Positive</td>\n",
       "      <td>1733607649</td>\n",
       "    </tr>\n",
       "  </tbody>\n",
       "</table>\n",
       "</div>"
      ],
      "text/plain": [
       "          id  app_id                            content          author_id  \\\n",
       "0  182230666      10                             old cs  76561199543367453   \n",
       "1  182219148      10  Ну для старперов сранных норм\\r\\n  76561199178774423   \n",
       "2  182201595      10                           fun game  76561199499216575   \n",
       "3  182192781      10                          Best game  76561198865144644   \n",
       "4  182189042      10      in another life before Steam.  76561197962303676   \n",
       "\n",
       "  is_positive  timestamp_created  \n",
       "0    Positive         1733647074  \n",
       "1    Positive         1733634985  \n",
       "2    Positive         1733617809  \n",
       "3    Positive         1733610483  \n",
       "4    Positive         1733607649  "
      ]
     },
     "execution_count": 6,
     "metadata": {},
     "output_type": "execute_result"
    }
   ],
   "source": [
    "df.head()"
   ]
  }
 ],
 "metadata": {
  "kernelspec": {
   "display_name": "Python (venv)",
   "language": "python",
   "name": "venv"
  },
  "language_info": {
   "codemirror_mode": {
    "name": "ipython",
    "version": 3
   },
   "file_extension": ".py",
   "mimetype": "text/x-python",
   "name": "python",
   "nbconvert_exporter": "python",
   "pygments_lexer": "ipython3",
   "version": "3.11.9"
  }
 },
 "nbformat": 4,
 "nbformat_minor": 2
}
